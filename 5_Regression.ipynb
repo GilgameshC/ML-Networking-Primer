{
 "cells": [
  {
   "cell_type": "code",
   "execution_count": null,
   "metadata": {},
   "outputs": [],
   "source": [
    "import numpy as np\n",
    "import pandas as pd\n",
    "import ipaddress\n",
    "import netaddr\n",
    "import matplotlib.pyplot as plt\n",
    "from data_collection.parse_pcap import pcap_to_pandas, pcap_to_dict\n",
    "from sklearn import linear_model\n",
    "import warnings\n",
    "warnings.filterwarnings('ignore')\n",
    "%matplotlib inline"
   ]
  },
  {
   "cell_type": "markdown",
   "metadata": {},
   "source": [
    "# Linear & Logistic Regression\n",
    "\n",
    "Today we start using artificial intelligence to make inferences about IoT device and Internet browsing traffic. The first techniques we will be using are linear and logistic regression. \n",
    "\n",
    "### Linear Regression\n",
    "\n",
    "Suppose we have a list of 2D points, where the $x$ value of each point is the number of hours per day a different IoT device is on, and the $y$ value of the point is the cost of energy consumed by the device (\\$ per year)."
   ]
  },
  {
   "cell_type": "code",
   "execution_count": null,
   "metadata": {},
   "outputs": [],
   "source": [
    "points = np.asarray([(1,20), (5,40), (3,70), (4,50), (1.5,40), (2,30), (6,80), (7,70), (8,90), (10,80)])"
   ]
  },
  {
   "cell_type": "markdown",
   "metadata": {},
   "source": [
    "We can plot these points on the $xy$ axis."
   ]
  },
  {
   "cell_type": "code",
   "execution_count": null,
   "metadata": {},
   "outputs": [],
   "source": [
    "plt.plot(points[:,0], points[:,1], '.', color='blue', markersize=12)\n",
    "plt.grid(linestyle='--', alpha=0.6)\n",
    "plt.xlabel('Hours On')\n",
    "plt.ylabel('Energy Cost')\n",
    "plt.xlim((-1,11))\n",
    "plt.ylim((-1,101))\n",
    "plt.show()"
   ]
  },
  {
   "cell_type": "markdown",
   "metadata": {},
   "source": [
    "Now suppose that we want to draw a line that goes through the middle of the collection of points with minimal distance between the line and each point along the y-axis. The equation for a line is $y=mx+b$, where $m$ is the slope of the line and $b$ is the $y$-intercept. The following code plots a line in addition to the points from before. Change the values of $m$ and $b$ to find a line with the smallest total distance to the points. When you've found good values for $m$ and $b$, raise your hand."
   ]
  },
  {
   "cell_type": "code",
   "execution_count": null,
   "metadata": {},
   "outputs": [],
   "source": [
    "m = 3 # change \n",
    "b = 0 # change\n",
    "\n",
    "# Calculate the distances from the line to the points\n",
    "points_x, points_y = points[:,0], points[:,1] # x and y values of the points\n",
    "line_y = m * points_x + b                     # y values of the line at the x values of the points\n",
    "distances = np.sqrt((points_y - line_y)**2)   # distances from y values of the points to y values of the line\n",
    "total_distance = np.sum(distances)            # sum of the distances\n",
    "print(\"Total Distance: {:.4f}\".format(total_distance))\n",
    "\n",
    "# Plot the line and points\n",
    "plt.plot(points_x, points_y, '.', color='blue', markersize=12)\n",
    "for px, py, ly in zip(points_x, points_y, line_y):\n",
    "    plt.plot([px, px], [py, ly], ':', color='red', linewidth=1.5)\n",
    "plt.plot([-2, 12], np.array([-2,12])*m + b, '-', color='green', linewidth=3)\n",
    "plt.grid(linestyle='--', alpha=0.6)\n",
    "plt.xlim((-1, 11))\n",
    "plt.ylim((-1, 101))\n",
    "plt.xlabel('Hours On')\n",
    "plt.ylabel('Energy Cost')\n",
    "plt.show()"
   ]
  },
  {
   "cell_type": "markdown",
   "metadata": {},
   "source": [
    "Congratulations! You've done linear regression! \n",
    "\n",
    "Fortunately, there are Python functions which will find the best line for us, so we don't have to do it manually.\n",
    "The following code plots the points, your line in green, and the optimal line determined by the Python LinearRegression function in red. "
   ]
  },
  {
   "cell_type": "code",
   "execution_count": null,
   "metadata": {},
   "outputs": [],
   "source": [
    "# Fit the linear regression\n",
    "linear_regression = linear_model.LinearRegression()\n",
    "linear_regression.fit(points_x.reshape(-1,1), points_y)\n",
    "best_line_ys = linear_regression.predict(np.array([-2,12]).reshape(-1,1))\n",
    "\n",
    "# Plot the results along with the points and previous line\n",
    "plt.plot(points_x, points_y, '.', color='blue', markersize=12)\n",
    "plt.plot([-2, 12], np.array([-2,12])*m + b, '-', color='green', linewidth=3, alpha=0.6)\n",
    "plt.plot([-2, 12], best_line_ys, color='red', alpha=0.4, linewidth=3)\n",
    "plt.grid(linestyle='--', alpha=0.6)\n",
    "plt.xlim((-1, 11))\n",
    "plt.ylim((-1, 101))\n",
    "plt.xlabel('Hours On')\n",
    "plt.ylabel('Energy Cost')\n",
    "plt.show()"
   ]
  },
  {
   "cell_type": "markdown",
   "metadata": {},
   "source": [
    "So why is this useful? Suppose someone is thinking about buying a new device, which will be on for 9 hours a day, and wants to know how much the energy to run the device will cost. We can use the $y$-value of the line at $x = 9$ to predict the cost. We could repeat this prediction for any new value of $x$ and obtain a reasonable energy cost prediction."
   ]
  },
  {
   "cell_type": "code",
   "execution_count": null,
   "metadata": {},
   "outputs": [],
   "source": [
    "hours_on = 9\n",
    "predicted_cost = linear_regression.predict([[hours_on]])\n",
    "print(\"Predicted energy cost of device with {} hours on per day: {}\".format(hours_on, predicted_cost[0]))"
   ]
  },
  {
   "cell_type": "markdown",
   "metadata": {},
   "source": [
    "Of course, there are many factors which affect energy consumption apart from the length of time a device is powered on. Raise your hand if you can think of some reasons why this predicted cost might not be accurate.\n",
    "\n",
    "However, given that the only information we have about these hypothetical devices are hours on, the linear regression line gives us the highest probability prediction possible assuming a linear relationship between hours on and energy cost. "
   ]
  },
  {
   "cell_type": "markdown",
   "metadata": {},
   "source": [
    "## Logistic Regression\n",
    "\n",
    "Logistic Regression is very similar to linear regression, except all of the points can only have $y$-values of $1$ or $0$. This is useful if we want to predict whether something is or isn't part of a particular class. Instead of fitting a line (as in linear regression), logistic regression involves fitting a probability curve.\n",
    "\n",
    "For example, using our device traffic, let's see whether we can predict a DNS packet is request or response from its length. \n",
    "\n",
    "First, let's import the data, extract only the DNS packets, and view the first few packets."
   ]
  },
  {
   "cell_type": "code",
   "execution_count": null,
   "metadata": {},
   "outputs": [],
   "source": [
    "pcap = pcap_to_pandas('example_pcaps/google_home.pcap') # this can take a few minutes\n",
    "dns_packets = pcap.loc[pcap['is_dns'] == True];\n",
    "dns_packets.head(n=5)"
   ]
  },
  {
   "cell_type": "markdown",
   "metadata": {},
   "source": [
    "Each row in the printed data is a packet and each column is a feature of the packet.\n",
    "\n",
    "Next let's divide the DNS packets into requests and repsonses, and convert them into points where the $x$-value is the length of the packet and $y$-value is $1$ for requests and $0$ for responses"
   ]
  },
  {
   "cell_type": "code",
   "execution_count": null,
   "metadata": {},
   "outputs": [],
   "source": [
    "y = dns_packets.apply(lambda row: 1 if row['dns_resp'] == None else 0, axis=1).values\n",
    "x = dns_packets['length'].values.reshape(-1, 1)\n",
    "x_req = dns_packets.loc[dns_packets['dns_resp'].isnull()]['length'].values.reshape(-1, 1)\n",
    "x_res = dns_packets.loc[dns_packets['dns_resp'].notnull()]['length'].values.reshape(-1, 1)"
   ]
  },
  {
   "cell_type": "markdown",
   "metadata": {},
   "source": [
    "We can plot these points with the requests in red and the responses in blue. "
   ]
  },
  {
   "cell_type": "code",
   "execution_count": null,
   "metadata": {},
   "outputs": [],
   "source": [
    "plt.plot(x_req, np.ones(len(x_req)), '.', color='red')\n",
    "plt.plot(x_res, np.zeros(len(x_res)), '.', color='blue')\n",
    "plt.ylabel(\"Request (1) or Response (0)\")\n",
    "plt.xlabel(\"DNS Packet Length\")\n",
    "plt.grid(linestyle='--', alpha=0.6)\n",
    "plt.show()"
   ]
  },
  {
   "cell_type": "markdown",
   "metadata": {},
   "source": [
    "What does this tell us about the difference in packet length between DNS request packets and DNS response packets? How will this make it possible to predict the type of new DNS packets? Raise your hand with answers to these questions.\n",
    "\n",
    "Now we can fit a logistic probability curve to these points. and plot the result."
   ]
  },
  {
   "cell_type": "code",
   "execution_count": null,
   "metadata": {
    "scrolled": false
   },
   "outputs": [],
   "source": [
    "# Fit the logistic curve (C is a regularization parameter, feel free to play with it!)\n",
    "logistic_regression = linear_model.LogisticRegression(C=100);\n",
    "logistic_regression.fit(x, y);\n",
    "\n",
    "# Plot data\n",
    "z = np.arange(1, 600, 0.5).reshape(-1, 1);\n",
    "plt.plot(z, logistic_regression.predict_proba(z)[:, 1], color='green');\n",
    "plt.plot(x_req, np.ones(len(x_req)), '.', color='red')\n",
    "plt.plot(x_res, np.zeros(len(x_res)), '.', color='blue')\n",
    "plt.ylabel(\"Request (1) or Response (0)\")\n",
    "plt.xlabel(\"DNS Packet Length\")\n",
    "plt.grid(linestyle='--', alpha=0.6)\n",
    "plt.show()"
   ]
  },
  {
   "cell_type": "markdown",
   "metadata": {},
   "source": [
    "Let's load some new data from a different device and see how well this logistic regression curve can be used to predict DNS requests versus responses for new packets. "
   ]
  },
  {
   "cell_type": "code",
   "execution_count": null,
   "metadata": {},
   "outputs": [],
   "source": [
    "# Load a test data file\n",
    "pcap_test = pcap_to_pandas('example_pcaps/tplink_switch.pcap');\n",
    "test_dns_packets = pcap_test.loc[pcap_test['is_dns']];\n",
    "y = test_dns_packets.apply(lambda row: 1 if row['dns_resp'] == None else 0, axis=1).values\n",
    "x = test_dns_packets['length'].values.reshape(-1, 1)\n",
    "\n",
    "# Plot with logistic curve\n",
    "z = np.arange(1, 600, 0.5).reshape(-1, 1);\n",
    "plt.plot(z, logistic_regression.predict_proba(z)[:, 1], color='green');\n",
    "plt.plot(x, y, '.', color='black')\n",
    "plt.ylabel(\"Request (1) or Response (0)\")\n",
    "plt.xlabel(\"DNS Packet Length\")\n",
    "plt.grid(linestyle='--', alpha=0.6)\n",
    "plt.show()"
   ]
  },
  {
   "cell_type": "code",
   "execution_count": null,
   "metadata": {},
   "outputs": [],
   "source": [
    "# Calculate prediction accuracy\n",
    "correct_y = test_dns_packets.apply(lambda row: 1 if row['dns_resp'] == None else 0, axis=1).values\n",
    "predicted_y = test_dns_packets.apply(lambda row: logistic_regression.predict(row['length'])[0], axis=1)\n",
    "num_correct_predictions = sum(correct_y == predicted_y)\n",
    "accuracy = num_correct_predictions / len(test_dns_packets)\n",
    "print('{} of {} packets correctly predicted as DNS requests or responses for an accuracy of {:.2f}%'.format(\n",
    "    num_correct_predictions, len(test_dns_packets), accuracy*100))"
   ]
  },
  {
   "cell_type": "markdown",
   "metadata": {},
   "source": [
    "## Futher Applications"
   ]
  },
  {
   "cell_type": "markdown",
   "metadata": {},
   "source": [
    "### Linear vs. Logistic Regression\n",
    "Try modifying the example code above for the DNS classifier to use a linear regression. Note that the `predict` method for the linear model outputs a decimal, not a label. To handle this case, simply label an input as `1` if the model outputs a value higher than `0.5` (or some other threshold of your choosing), and `0` otherwise.\n",
    "\n",
    "Does this method work as well as the logistic regression? Why or why not? What patterns in the data would the logistic regression have trouble modelling?"
   ]
  },
  {
   "cell_type": "markdown",
   "metadata": {},
   "source": [
    "### Classifying Packet Protocol\n",
    "\n",
    "Repeat the above experiments, but this time try to predict the *protocol* of the packet. A good feature to use for this task is, again, the packet length. Can you find any other features in the dataset that work well?"
   ]
  },
  {
   "cell_type": "code",
   "execution_count": null,
   "metadata": {},
   "outputs": [],
   "source": []
  }
 ],
 "metadata": {
  "kernelspec": {
   "display_name": "Python 3",
   "language": "python",
   "name": "python3"
  },
  "language_info": {
   "codemirror_mode": {
    "name": "ipython",
    "version": 3
   },
   "file_extension": ".py",
   "mimetype": "text/x-python",
   "name": "python",
   "nbconvert_exporter": "python",
   "pygments_lexer": "ipython3",
   "version": "3.6.5"
  }
 },
 "nbformat": 4,
 "nbformat_minor": 2
}
