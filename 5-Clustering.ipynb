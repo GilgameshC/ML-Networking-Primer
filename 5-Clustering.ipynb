{
 "cells": [
  {
   "cell_type": "markdown",
   "metadata": {},
   "source": [
    "## Clustering\n",
    "\n",
    "So far you’ve seen multiple ways of doing supervised learning. In these types of problems, you start with labeled training examples and the goal is to learn from these data to label new data points in the future. However, labeled training data isn’t always available. Labelling large amounts of data ahead of time can be prohibitively expensive/time consuming. In some settings, we may also not know ahead of time what we want to learn from our data. In these situations, we use unsupervised learning.\n",
    "\n",
    "In unsupervised learning, the input is a set of unlabeled data, and the goal is to uncover some structure from this data. The most common form of unsupervised learning is clustering, a variant of which we will go over today. \n",
    "\n",
    "Other examples include dimensionality reduction, in which we start with a datapoint with many dimensions and try to find a lower dimensional representation that retains some aspect of the original data (such as pairwise distance between points).\n",
    "\n",
    "## K-means Clustering\n",
    "\n",
    "The goal behind k-means is to find groups in your dataset. This is done by visualizing your data as points in a high dimensional space, and then finding clusters of nearby points in the graph. The input to k means is a set of data points and a number of clusters. Given this input, the goal of k-means is to find the location of clusters and assignment of points to clusters that minimizes the following objective function.\n",
    "\n",
    "$$RSE\\ =\\ \\sum_{i=1}^kd(Ci\\ ,\\ xi)^2$$\n",
    "\n",
    "Where d(x,y) is a standard distance function (such as euclidean). Here’s an example:\n",
    "http://stanford.edu/class/ee103/visualizations/kmeans/kmeans.html\n",
    "\n",
    "Finding the optimal location of clusters is a hard problem. However, the following algorithm finds a decent approximation.\n",
    "\n",
    "Algorithm:\n",
    "1. Pick a number k of clusters \n",
    "2. Initialize the positions of the clusters at random\n",
    "3. Assign each point to the cluster closest to it\n",
    "4. Move each cluster to the midpoint of all points assigned to it\n",
    "5. Repeat steps 3 and 4 until convergence\n"
   ]
  },
  {
   "cell_type": "code",
   "execution_count": 1,
   "metadata": {},
   "outputs": [],
   "source": [
    "import numpy as np\n",
    "import pandas as pd\n",
    "import pickle\n",
    "from matplotlib import pyplot as plt\n",
    "%matplotlib inline\n",
    "plt.rcParams[\"figure.figsize\"] = (8,6)\n",
    "\n",
    "from data_collection.parse_pcap import pcap_to_pandas\n",
    "import ipaddress\n",
    "import netaddr\n",
    "\n",
    "from sklearn.cluster import KMeans\n",
    "from sklearn.datasets import make_blobs\n"
   ]
  },
  {
   "cell_type": "markdown",
   "metadata": {},
   "source": [
    "## Load Datasets\n",
    "\n",
    "### Packet Capture"
   ]
  },
  {
   "cell_type": "code",
   "execution_count": 2,
   "metadata": {},
   "outputs": [
    {
     "data": {
      "text/html": [
       "<div>\n",
       "<style scoped>\n",
       "    .dataframe tbody tr th:only-of-type {\n",
       "        vertical-align: middle;\n",
       "    }\n",
       "\n",
       "    .dataframe tbody tr th {\n",
       "        vertical-align: top;\n",
       "    }\n",
       "\n",
       "    .dataframe thead th {\n",
       "        text-align: right;\n",
       "    }\n",
       "</style>\n",
       "<table border=\"1\" class=\"dataframe\">\n",
       "  <thead>\n",
       "    <tr style=\"text-align: right;\">\n",
       "      <th></th>\n",
       "      <th>datetime</th>\n",
       "      <th>dns_query</th>\n",
       "      <th>dns_resp</th>\n",
       "      <th>ip_dst</th>\n",
       "      <th>ip_dst_int</th>\n",
       "      <th>ip_src</th>\n",
       "      <th>ip_src_int</th>\n",
       "      <th>is_dns</th>\n",
       "      <th>length</th>\n",
       "      <th>mac_dst</th>\n",
       "      <th>mac_dst_int</th>\n",
       "      <th>mac_src</th>\n",
       "      <th>mac_src_int</th>\n",
       "      <th>port_dst</th>\n",
       "      <th>port_src</th>\n",
       "      <th>protocol</th>\n",
       "      <th>time</th>\n",
       "      <th>time_normed</th>\n",
       "    </tr>\n",
       "  </thead>\n",
       "  <tbody>\n",
       "    <tr>\n",
       "      <th>0</th>\n",
       "      <td>2018-07-30 14:51:40</td>\n",
       "      <td>None</td>\n",
       "      <td>None</td>\n",
       "      <td>255.255.255.255</td>\n",
       "      <td>4.294967e+09</td>\n",
       "      <td>128.112.93.99</td>\n",
       "      <td>2.154848e+09</td>\n",
       "      <td>False</td>\n",
       "      <td>184</td>\n",
       "      <td>ff:ff:ff:ff:ff:ff</td>\n",
       "      <td>281474976710655</td>\n",
       "      <td>0c:4d:e9:b0:8e:4b</td>\n",
       "      <td>13528772677195</td>\n",
       "      <td>17500.0</td>\n",
       "      <td>17500.0</td>\n",
       "      <td>UDP</td>\n",
       "      <td>1532980300.670566</td>\n",
       "      <td>0.000000</td>\n",
       "    </tr>\n",
       "    <tr>\n",
       "      <th>1</th>\n",
       "      <td>2018-07-30 14:51:40</td>\n",
       "      <td>None</td>\n",
       "      <td>None</td>\n",
       "      <td>128.112.93.255</td>\n",
       "      <td>2.154848e+09</td>\n",
       "      <td>128.112.93.99</td>\n",
       "      <td>2.154848e+09</td>\n",
       "      <td>False</td>\n",
       "      <td>184</td>\n",
       "      <td>ff:ff:ff:ff:ff:ff</td>\n",
       "      <td>281474976710655</td>\n",
       "      <td>0c:4d:e9:b0:8e:4b</td>\n",
       "      <td>13528772677195</td>\n",
       "      <td>17500.0</td>\n",
       "      <td>17500.0</td>\n",
       "      <td>UDP</td>\n",
       "      <td>1532980300.670856</td>\n",
       "      <td>0.000290</td>\n",
       "    </tr>\n",
       "    <tr>\n",
       "      <th>2</th>\n",
       "      <td>2018-07-30 14:51:41</td>\n",
       "      <td>None</td>\n",
       "      <td>None</td>\n",
       "      <td>162.222.44.11</td>\n",
       "      <td>2.732469e+09</td>\n",
       "      <td>128.112.92.150</td>\n",
       "      <td>2.154847e+09</td>\n",
       "      <td>False</td>\n",
       "      <td>82</td>\n",
       "      <td>04:09:73:5f:c9:00</td>\n",
       "      <td>4438636873984</td>\n",
       "      <td>a8:60:b6:01:d0:a9</td>\n",
       "      <td>185133323899049</td>\n",
       "      <td>4282.0</td>\n",
       "      <td>56524.0</td>\n",
       "      <td>TCP</td>\n",
       "      <td>1532980301.370868</td>\n",
       "      <td>0.700302</td>\n",
       "    </tr>\n",
       "    <tr>\n",
       "      <th>3</th>\n",
       "      <td>2018-07-30 14:51:41</td>\n",
       "      <td>None</td>\n",
       "      <td>None</td>\n",
       "      <td>162.222.44.11</td>\n",
       "      <td>2.732469e+09</td>\n",
       "      <td>128.112.92.150</td>\n",
       "      <td>2.154847e+09</td>\n",
       "      <td>False</td>\n",
       "      <td>1514</td>\n",
       "      <td>04:09:73:5f:c9:00</td>\n",
       "      <td>4438636873984</td>\n",
       "      <td>a8:60:b6:01:d0:a9</td>\n",
       "      <td>185133323899049</td>\n",
       "      <td>4282.0</td>\n",
       "      <td>56524.0</td>\n",
       "      <td>TCP</td>\n",
       "      <td>1532980301.370965</td>\n",
       "      <td>0.700399</td>\n",
       "    </tr>\n",
       "    <tr>\n",
       "      <th>4</th>\n",
       "      <td>2018-07-30 14:51:41</td>\n",
       "      <td>None</td>\n",
       "      <td>None</td>\n",
       "      <td>162.222.44.11</td>\n",
       "      <td>2.732469e+09</td>\n",
       "      <td>128.112.92.150</td>\n",
       "      <td>2.154847e+09</td>\n",
       "      <td>False</td>\n",
       "      <td>1514</td>\n",
       "      <td>04:09:73:5f:c9:00</td>\n",
       "      <td>4438636873984</td>\n",
       "      <td>a8:60:b6:01:d0:a9</td>\n",
       "      <td>185133323899049</td>\n",
       "      <td>4282.0</td>\n",
       "      <td>56524.0</td>\n",
       "      <td>TCP</td>\n",
       "      <td>1532980301.370966</td>\n",
       "      <td>0.700400</td>\n",
       "    </tr>\n",
       "  </tbody>\n",
       "</table>\n",
       "</div>"
      ],
      "text/plain": [
       "             datetime dns_query dns_resp           ip_dst    ip_dst_int  \\\n",
       "0 2018-07-30 14:51:40      None     None  255.255.255.255  4.294967e+09   \n",
       "1 2018-07-30 14:51:40      None     None   128.112.93.255  2.154848e+09   \n",
       "2 2018-07-30 14:51:41      None     None    162.222.44.11  2.732469e+09   \n",
       "3 2018-07-30 14:51:41      None     None    162.222.44.11  2.732469e+09   \n",
       "4 2018-07-30 14:51:41      None     None    162.222.44.11  2.732469e+09   \n",
       "\n",
       "           ip_src    ip_src_int  is_dns  length            mac_dst  \\\n",
       "0   128.112.93.99  2.154848e+09   False     184  ff:ff:ff:ff:ff:ff   \n",
       "1   128.112.93.99  2.154848e+09   False     184  ff:ff:ff:ff:ff:ff   \n",
       "2  128.112.92.150  2.154847e+09   False      82  04:09:73:5f:c9:00   \n",
       "3  128.112.92.150  2.154847e+09   False    1514  04:09:73:5f:c9:00   \n",
       "4  128.112.92.150  2.154847e+09   False    1514  04:09:73:5f:c9:00   \n",
       "\n",
       "       mac_dst_int            mac_src      mac_src_int  port_dst  port_src  \\\n",
       "0  281474976710655  0c:4d:e9:b0:8e:4b   13528772677195   17500.0   17500.0   \n",
       "1  281474976710655  0c:4d:e9:b0:8e:4b   13528772677195   17500.0   17500.0   \n",
       "2    4438636873984  a8:60:b6:01:d0:a9  185133323899049    4282.0   56524.0   \n",
       "3    4438636873984  a8:60:b6:01:d0:a9  185133323899049    4282.0   56524.0   \n",
       "4    4438636873984  a8:60:b6:01:d0:a9  185133323899049    4282.0   56524.0   \n",
       "\n",
       "  protocol               time time_normed  \n",
       "0      UDP  1532980300.670566    0.000000  \n",
       "1      UDP  1532980300.670856    0.000290  \n",
       "2      TCP  1532980301.370868    0.700302  \n",
       "3      TCP  1532980301.370965    0.700399  \n",
       "4      TCP  1532980301.370966    0.700400  "
      ]
     },
     "execution_count": 2,
     "metadata": {},
     "output_type": "execute_result"
    }
   ],
   "source": [
    "data = pcap_to_pandas(\"example_pcaps/activity.pcap\")\n",
    "data.head(5)"
   ]
  },
  {
   "cell_type": "markdown",
   "metadata": {},
   "source": [
    "### IP Geolocation\n",
    "\n",
    "Let's start by plotting the latitude and longitude of each src IP on a grid. The file \"example_pcaps/ross_ips.txt\" contains geolocation data about each of the source IPs detected in our dataset.\n",
    "\n",
    "The following code adds a \"lat\" and \"lon\" column to the data, collected from activity_ips.txt."
   ]
  },
  {
   "cell_type": "code",
   "execution_count": 3,
   "metadata": {},
   "outputs": [
    {
     "data": {
      "image/png": "[encoded data removed]",
      "text/plain": [
       "<Figure size 576x432 with 1 Axes>"
      ]
     },
     "metadata": {
      "needs_background": "light"
     },
     "output_type": "display_data"
    }
   ],
   "source": [
    "import json\n",
    "\n",
    "with open('example_pcaps/activity_ips.txt', 'r') as f:\n",
    "    IP_data = json.load(f)\n",
    "\n",
    "def IP_to_lat(row):\n",
    "    return float(IP_data[row[\"ip_src\"]][\"loc\"].split(\",\")[0])\n",
    "\n",
    "def IP_to_lon(row):\n",
    "    return float(IP_data[row[\"ip_src\"]][\"loc\"].split(\",\")[1])\n",
    "\n",
    "# NOTE: Probably should just do this with a dataframe join.\n",
    "copy_data = data.copy()\n",
    "copy_data[\"lat\"] = 0\n",
    "copy_data[\"lon\"] = 0\n",
    "\n",
    "copy_data = copy_data[copy_data[\"ip_src\"].notnull()]\n",
    "\n",
    "copy_data[\"lat\"] = copy_data.apply(IP_to_lat, axis=1)\n",
    "copy_data[\"lon\"] = copy_data.apply(IP_to_lon, axis=1)\n",
    "\n",
    "lat_data = copy_data[\"lat\"]\n",
    "lon_data = copy_data[\"lon\"]\n",
    "\n",
    "plt.scatter(lon_data, lat_data)\n",
    "plt.xlabel(\"Longitude\")\n",
    "plt.ylabel(\"Latitude\")\n",
    "plt.show()"
   ]
  },
  {
   "cell_type": "markdown",
   "metadata": {},
   "source": [
    "Look up some of these IPs. What do you think this plot is a map of?\n",
    "\n",
    "Now, let's cluster them. Take a few minutes to play with different numbers of clusters. What should the clusters represent? See if you can produce a good clustering. What should the clusters represent?"
   ]
  },
  {
   "cell_type": "code",
   "execution_count": 4,
   "metadata": {},
   "outputs": [
    {
     "data": {
      "image/png": "[encoded data removed]",
      "text/plain": [
       "<Figure size 576x432 with 1 Axes>"
      ]
     },
     "metadata": {
      "needs_background": "light"
     },
     "output_type": "display_data"
    }
   ],
   "source": [
    "kmeans = KMeans(n_clusters=5)\n",
    "\n",
    "# zip forms lat, long tuples\n",
    "# list creates a list of all tuples\n",
    "kmeans_data = list(zip(lat_data, lon_data))\n",
    "\n",
    "# cluster the tuples\n",
    "kmeans.fit(kmeans_data)\n",
    "clusters = kmeans.predict(kmeans_data)\n",
    "\n",
    "plt.scatter(lon_data, lat_data, c=clusters, cmap='brg')\n",
    "plt.xlabel(\"Longitude\")\n",
    "plt.ylabel(\"Latitude\")\n",
    "plt.show()"
   ]
  },
  {
   "cell_type": "markdown",
   "metadata": {},
   "source": [
    "## K-Means Failure Scenarios\n",
    "\n",
    "Now, we'll examine a case where clustering performs poorly, despite there being seemingly good positions for these clusters.\n",
    "\n",
    "On the X-axis, we will graph the source IPs of our data.\n",
    "On the Y-axis, we will graph the total # of bytes sent by each IP."
   ]
  },
  {
   "cell_type": "code",
   "execution_count": 5,
   "metadata": {},
   "outputs": [
    {
     "data": {
      "image/png": "[encoded data removed]",
      "text/plain": [
       "<Figure size 576x432 with 1 Axes>"
      ]
     },
     "metadata": {
      "needs_background": "light"
     },
     "output_type": "display_data"
    }
   ],
   "source": [
    "ip_src = data[data[\"ip_src_int\"].notnull()][\"ip_src_int\"].unique()\n",
    "ip_src.sort()\n",
    "ip_src_bytes = data[data[\"ip_src_int\"].notnull()].groupby(\"ip_src_int\").sum()[\"length\"]\n",
    "\n",
    "plt.scatter(ip_src, ip_src_bytes)\n",
    "plt.xlabel(\"Src IPs\")\n",
    "plt.ylabel(\"Length\")\n",
    "plt.show()"
   ]
  },
  {
   "cell_type": "markdown",
   "metadata": {},
   "source": [
    "K-Means has a hard time producing a good clustering of the data. Because there are so many senders with a short connection, K-Means prefers to choose centroids near the bottom of the graph to minimize the total error."
   ]
  },
  {
   "cell_type": "code",
   "execution_count": 6,
   "metadata": {},
   "outputs": [
    {
     "data": {
      "image/png": "[encoded data removed]",
      "text/plain": [
       "<Figure size 576x432 with 1 Axes>"
      ]
     },
     "metadata": {
      "needs_background": "light"
     },
     "output_type": "display_data"
    }
   ],
   "source": [
    "kmeans = KMeans(n_clusters=2)\n",
    "X = list(zip(ip_src, ip_src_bytes))\n",
    "kmeans.fit(X)\n",
    "clusters = kmeans.predict(X)\n",
    "\n",
    "plt.scatter(ip_src, ip_src_bytes, c=clusters)\n",
    "centers = kmeans.cluster_centers_\n",
    "plt.scatter(centers[:, 0], centers[:, 1], color='red')\n",
    "plt.xlabel(\"Src IPs\")\n",
    "plt.ylabel(\"Lengths\")\n",
    "plt.show()"
   ]
  },
  {
   "cell_type": "markdown",
   "metadata": {},
   "source": [
    "A simple modification to produce a better clustering would be to multiply all the lengths by a large constant. This way, the penalty of the outlying two points would be so great that K-means now prefers to choose a centroid near the two senders with large sending amounts."
   ]
  },
  {
   "cell_type": "code",
   "execution_count": 7,
   "metadata": {},
   "outputs": [],
   "source": [
    "kmeans = KMeans(n_clusters=2)\n",
    "X_scaled = list(zip(ip_src, ip_src_bytes*1000))\n",
    "kmeans.fit(X_scaled)\n",
    "clusters = kmeans.predict(X_scaled)"
   ]
  },
  {
   "cell_type": "code",
   "execution_count": 8,
   "metadata": {},
   "outputs": [
    {
     "data": {
      "image/png": "[encoded data removed]",
      "text/plain": [
       "<Figure size 576x432 with 1 Axes>"
      ]
     },
     "metadata": {
      "needs_background": "light"
     },
     "output_type": "display_data"
    }
   ],
   "source": [
    "plt.scatter(ip_src, ip_src_bytes, c=clusters)\n",
    "centers = kmeans.cluster_centers_\n",
    "plt.scatter(centers[:, 0], centers[:, 1], color='red')\n",
    "plt.xlabel(\"Src IPs\")\n",
    "plt.ylabel(\"Lengths (x1000)\")\n",
    "plt.show()"
   ]
  },
  {
   "cell_type": "markdown",
   "metadata": {},
   "source": [
    "### Tuning k in k-Means Clustering\n"
   ]
  },
  {
   "cell_type": "code",
   "execution_count": 9,
   "metadata": {},
   "outputs": [
    {
     "data": {
      "image/png": "[encoded data removed]",
      "text/plain": [
       "<Figure size 576x432 with 1 Axes>"
      ]
     },
     "metadata": {
      "needs_background": "light"
     },
     "output_type": "display_data"
    }
   ],
   "source": [
    "randint = np.random.randint(3, 10)\n",
    "X, y_true = make_blobs(n_samples=100, centers=randint,cluster_std=0.4, random_state=0)\n",
    "plt.scatter(X[:, 0], X[:, 1], s=50)\n",
    "plt.show()"
   ]
  },
  {
   "cell_type": "code",
   "execution_count": 10,
   "metadata": {},
   "outputs": [
    {
     "data": {
      "image/png": "[encoded data removed]",
      "text/plain": [
       "<Figure size 576x432 with 1 Axes>"
      ]
     },
     "metadata": {
      "needs_background": "light"
     },
     "output_type": "display_data"
    }
   ],
   "source": [
    "from matplotlib.ticker import MaxNLocator\n",
    "from matplotlib.pyplot import figure, show\n",
    "\n",
    "guesses = []\n",
    "guess_error_rates = []\n",
    "\n",
    "guess = np.arange(1,10)\n",
    "\n",
    "# make a k_means variable equal to KMeans with \"guess\" number of clusters (See above!)\n",
    "# fit KMeans to the data \"X\"\n",
    "for c in guess:\n",
    "    k_means = KMeans(n_clusters=c)\n",
    "    k_means.fit(X)\n",
    "\n",
    "    guesses.append(c)\n",
    "    guess_error_rates.append(k_means.inertia_)\n",
    "\n",
    "\n",
    "ax = figure().gca()\n",
    "ax.xaxis.set_major_locator(MaxNLocator(integer=True))\n",
    "\n",
    "    \n",
    "plt.plot(guesses, guess_error_rates)\n",
    "plt.xlabel(\"Clusters\")\n",
    "plt.ylabel(\"Error\")\n",
    "plt.show()"
   ]
  },
  {
   "cell_type": "markdown",
   "metadata": {},
   "source": [
    "## Density and Distribution-Based Clustering\n",
    "\n",
    "### DBSCAN"
   ]
  },
  {
   "cell_type": "code",
   "execution_count": 11,
   "metadata": {},
   "outputs": [],
   "source": [
    "from sklearn.cluster import DBSCAN\n",
    "\n",
    "X = list(zip(lon_data, lat_data))\n",
    "\n",
    "dbscan = DBSCAN(min_samples=3)\n",
    "dbscan.fit(X)\n",
    "clusters = dbscan.labels_"
   ]
  },
  {
   "cell_type": "code",
   "execution_count": 12,
   "metadata": {},
   "outputs": [
    {
     "data": {
      "image/png": "[encoded data removed]",
      "text/plain": [
       "<Figure size 576x432 with 1 Axes>"
      ]
     },
     "metadata": {
      "needs_background": "light"
     },
     "output_type": "display_data"
    }
   ],
   "source": [
    "plt.scatter(lon_data, lat_data, c=clusters, cmap='brg')\n",
    "plt.show()"
   ]
  },
  {
   "cell_type": "markdown",
   "metadata": {},
   "source": [
    "### Gaussian Mixture Models"
   ]
  },
  {
   "cell_type": "code",
   "execution_count": 13,
   "metadata": {},
   "outputs": [
    {
     "data": {
      "image/png": "[encoded data removed]",
      "text/plain": [
       "<Figure size 576x432 with 1 Axes>"
      ]
     },
     "metadata": {
      "needs_background": "light"
     },
     "output_type": "display_data"
    }
   ],
   "source": [
    "from sklearn.mixture import GaussianMixture as GMM\n",
    "\n",
    "gmm = GMM(n_components=3).fit(X)\n",
    "labels = gmm.predict(X)\n",
    "\n",
    "plt.scatter(lon_data,lat_data, c=labels, cmap='brg')\n",
    "plt.show()"
   ]
  },
  {
   "cell_type": "code",
   "execution_count": null,
   "metadata": {},
   "outputs": [],
   "source": []
  }
 ],
 "metadata": {
  "kernelspec": {
   "display_name": "Python 3",
   "language": "python",
   "name": "python3"
  },
  "language_info": {
   "codemirror_mode": {
    "name": "ipython",
    "version": 3
   },
   "file_extension": ".py",
   "mimetype": "text/x-python",
   "name": "python",
   "nbconvert_exporter": "python",
   "pygments_lexer": "ipython3",
   "version": "3.6.9"
  }
 },
 "nbformat": 4,
 "nbformat_minor": 2
}
