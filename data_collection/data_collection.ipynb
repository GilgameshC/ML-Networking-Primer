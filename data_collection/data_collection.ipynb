{
 "cells": [
  {
   "cell_type": "markdown",
   "metadata": {},
   "source": [
    "# Artificial Intelligence & the Internet of Things"
   ]
  },
  {
   "cell_type": "markdown",
   "metadata": {},
   "source": [
    "Over the next three weeks, we'll be exploring the intersection of artificial intelligence (AI) with the Internet of Things (IoT). Both AI and IoT are rapidly growing and changing technologies with implications for privacy, energy use, and security (digital and physical). We'll do hands-on experiments with IoT devices, collect data from our own web browsing, and see how AI poses both risks and benefits for everyone who uses the Internet. "
   ]
  },
  {
   "cell_type": "markdown",
   "metadata": {},
   "source": [
    "## Day 1: Monday 8/23/18"
   ]
  },
  {
   "cell_type": "markdown",
   "metadata": {},
   "source": [
    "### Introductions & Ice Breakers"
   ]
  },
  {
   "cell_type": "markdown",
   "metadata": {},
   "source": [
    "This project will be lead by [Professor Nick Feamster](https://www.cs.princeton.edu/~feamster/) and four Princeton graduate students:\n",
    "\n",
    "* [Noah Apthorpe](https://www.cs.princeton.edu/~apthorpe/)\n",
    "\n",
    "* [Ross Texiera](https://www.rossteixeira.com/)\n",
    "\n",
    "* [Vincent Pacelli](https://mae.princeton.edu/people/graduate-students/pacelli)\n",
    "\n",
    "* [Riley Simmons-Edler](https://undergraduateresearch.princeton.edu/riley-simmons-edler)"
   ]
  },
  {
   "cell_type": "markdown",
   "metadata": {},
   "source": [
    "### Overview of Internet and AI"
   ]
  },
  {
   "cell_type": "markdown",
   "metadata": {},
   "source": [
    "Professor Feamster will kick off the project with a lecture about how the Internet works, what is the Internet of Things, and how artificial intelligence is causing new risks and benefits for Internet users."
   ]
  },
  {
   "cell_type": "markdown",
   "metadata": {},
   "source": [
    "### Finding partners & Choosing Devices"
   ]
  },
  {
   "cell_type": "markdown",
   "metadata": {},
   "source": [
    "You will be working in pairs for the entirety of this project. Each pair will focus on one of the following sets of two similar IoT devices:\n",
    "\n",
    "* **Home Assistants:** Google Home & Amazon Echo\n",
    "* **Security Cameras:** Amcrest Security Camera & Samsung Smart Cam\n",
    "* **Smart Lightbulbs:** Lifx Lightbulb & Geeni Lightbulb\n",
    "* **Children's Toys:** Gululu Kids Water Bottle & Ubooly Smart Toy\n",
    "\n",
    "Your first job is to find a partner to work with for the next three weeks. \n",
    "\n",
    "Once you have a partner, go to [this survey](https://goo.gl/forms/UacyugK19vlGqMWz1) and indicate which of the devices you would prefer."
   ]
  },
  {
   "cell_type": "markdown",
   "metadata": {},
   "source": [
    "## Day 2: Tuesday 8/24/18"
   ]
  },
  {
   "cell_type": "markdown",
   "metadata": {},
   "source": [
    "### Internet data collection"
   ]
  },
  {
   "cell_type": "markdown",
   "metadata": {},
   "source": [
    "We'll start off by collecting network traffic data from your own Internet browsing. Follow these steps to record network traffic:\n",
    "1. Open Wireshark on your computer. \n",
    "2. Under \"Capture\" double-click \"WiFi en0\" \n",
    "3. You see a list of recorded packets start to scroll through. These are all the network packets that are being sent or received by your computer. \n",
    "4. Without closing Wireshark, open an Internet browser. You'll have about 5-10 minutes to browse freely while the data is recorded. \n",
    "5. When time is up, switch back to Wireshark and click the red square \"stop\" button in the upper left. This will stop the network traffic recording\n",
    "6. \"File > Save\" the data on your desktop as \"internet_browsing_{name}.pcap\" with your name instead of {name} \n",
    "7. Without closing wireshark, email the \"internet_browsing.pcap\" file to the TAs."
   ]
  },
  {
   "cell_type": "markdown",
   "metadata": {},
   "source": [
    "### Internet Data Visualization"
   ]
  },
  {
   "cell_type": "markdown",
   "metadata": {},
   "source": [
    "Now we will explore and visualize your Internet browsing data, trying to understand how your browsing behavior affected the network traffic \n",
    "1. Wireshark should show a list of all the packets in the data capture. You can scroll through and see the different addresses and protocols of each packet, but this view is ultimately not that helpful for getting a sense of the dataset as a whole. Fortunately, Wireshark has many analysis tools, mostly in the \"Statistics\" menu. \n",
    "4. The TAs will demonstrate several of analysis tools on the projector. \n",
    "5. Play around with the analysis tools.  Try to come up with at least one summary or visualization that you find interesting to show the class. "
   ]
  },
  {
   "cell_type": "markdown",
   "metadata": {},
   "source": [
    "## Day 3: Wednesday 8/25/18"
   ]
  },
  {
   "cell_type": "markdown",
   "metadata": {},
   "source": [
    "### Device Data Collection"
   ]
  },
  {
   "cell_type": "markdown",
   "metadata": {},
   "source": [
    "Today we will be collecting network traffic data from the IoT devices. Working with your partner, you should follow the following protocol for each device (one at a time):\n",
    "\n",
    "1. Unbox the device (if boxed) and read any included instructions/documentation to familiarize yourself with the setup process\n",
    "2. If applicable, download the device's companion app to the provided smart phone\n",
    "3. Set up the device, connecting it to the WiFi network \"IoT-Pi-3\" with the password \"pi-wifi-3\".\n",
    "4. Think about your device, and make a list of all the actions a person could perform with the device. For lightbulbs, this could be \n",
    "    * Turn on via app\n",
    "    * Turn off via app\n",
    "    * Turn on via power switch\n",
    "    * Turn off via power switch\n",
    "5. Raise your hand and ask one of the TAs to review your list of actions\n",
    "6. *Partner 1*: Perform each of the actions on your list, multiple times, separated by periods of no actions.\n",
    "7. *Partner 2*: Open up a text file on your computer. At the same time as partner 1 is interacting with the device, record the exact time and type of each action in the text file. Be as specific as possible. For a home assistant, the start of this log could look like \n",
    "    * 1:45:00, asked \"What is the time\"\n",
    "    * 1:47:00, asked \"What is the time\"\n",
    "    * 1:49:00, asked \"What is the time\"\n",
    "    * 1:51:00, started playing music \n",
    "    * 1:53:00, stopped playing music\n",
    "    * 1:55:00, started playing music \n",
    "    * 1:57:00, stopped playing music\n",
    "8. While you are interacting with the device, the custom WiFi router we have set up is recording all Internet traffic to and from the device. \n",
    "9. Once you are finished with all reptitions of all the actions, save the text file log and email it to one of the TAs. We will get the traffic data off the router and send it to you for tomorrow. \n",
    "\n",
    "    "
   ]
  },
  {
   "cell_type": "markdown",
   "metadata": {},
   "source": [
    "Don't worry if you don't get through steps 1-9 today. You can continue to work on this tomorrow."
   ]
  },
  {
   "cell_type": "markdown",
   "metadata": {},
   "source": [
    "## Day 4: Thursday 8/26/18"
   ]
  },
  {
   "cell_type": "markdown",
   "metadata": {},
   "source": [
    "### Finish Device Data Collection"
   ]
  },
  {
   "cell_type": "markdown",
   "metadata": {},
   "source": [
    "If you didn't get through all the data collection steps yesterday (some devices have more possible actions than others), continue working on those steps today."
   ]
  },
  {
   "cell_type": "markdown",
   "metadata": {},
   "source": [
    "### Device Data Visualization"
   ]
  },
  {
   "cell_type": "markdown",
   "metadata": {},
   "source": [
    "Today we will be exploring the device data, trying to understand how the actions you performed with the devices are affected the devices' network traffic. \n",
    "1. Open Wireshark on your computer\n",
    "2. \"File > Open\" one of the .pcap files that the TAs sent to you with the network traffic from one of your devices. \n",
    "3. Play around with the analysis tools you used on Tuesday for the Internet browsing traffic.  Try to come up with at least one summary or visualization that you find interesting to show the class.\n",
    "4. Each group will have a chance to put their data on the main projector for everyone to explore and discuss as a group."
   ]
  },
  {
   "cell_type": "markdown",
   "metadata": {},
   "source": [
    "### Data Collection Discussion and Recap"
   ]
  },
  {
   "cell_type": "markdown",
   "metadata": {},
   "source": [
    "We'll wrap up the data collection part of the project with a discussion about what we learned, what surprised us, and how this will inform the upcoming artificial intelligence portion of the project. \n"
   ]
  }
 ],
 "metadata": {
  "kernelspec": {
   "display_name": "Python 3",
   "language": "python",
   "name": "python3"
  },
  "language_info": {
   "codemirror_mode": {
    "name": "ipython",
    "version": 3
   },
   "file_extension": ".py",
   "mimetype": "text/x-python",
   "name": "python",
   "nbconvert_exporter": "python",
   "pygments_lexer": "ipython3",
   "version": "3.6.5"
  }
 },
 "nbformat": 4,
 "nbformat_minor": 2
}
