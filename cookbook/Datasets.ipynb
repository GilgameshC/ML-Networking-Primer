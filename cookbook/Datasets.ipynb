{
 "cells": [
  {
   "cell_type": "markdown",
   "metadata": {
    "colab_type": "text",
    "id": "QClbYwOKpC__"
   },
   "source": [
    "# **Datasets**"
   ]
  },
  {
   "cell_type": "code",
   "execution_count": 8,
   "metadata": {
    "colab": {},
    "colab_type": "code",
    "id": "TD13BBEloYNE"
   },
   "outputs": [],
   "source": [
    "import matplotlib as mpl\n",
    "import matplotlib.pyplot as plt\n",
    "\n",
    "# load scikit-learn's datasets\n",
    "from sklearn import datasets"
   ]
  },
  {
   "cell_type": "markdown",
   "metadata": {
    "colab_type": "text",
    "id": "PKdPSg9GpJe1"
   },
   "source": [
    "[Example Toy Datasets](https://scikit-learn.org/stable/datasets/index.html#toy-datasets) included with Python scikit-learn.\n",
    "\n",
    "load_boston([return_X_y]) \tLoad and return the boston house-prices dataset (regression).\n",
    "\n",
    "load_iris([return_X_y]) \tLoad and return the iris dataset (classification).\n",
    "\n",
    "load_diabetes([return_X_y]) \tLoad and return the diabetes dataset (regression).\n",
    "\n",
    "load_digits([n_class, return_X_y]) \tLoad and return the digits dataset (classification).\n",
    "\n",
    "load_linnerud([return_X_y]) \tLoad and return the linnerud dataset (multivariate regression).\n",
    "\n",
    "load_wine([return_X_y]) \tLoad and return the wine dataset (classification).\n",
    "\n",
    "load_breast_cancer([return_X_y]) \tLoad and return the breast cancer wisconsin dataset (classification)."
   ]
  },
  {
   "cell_type": "code",
   "execution_count": 9,
   "metadata": {
    "colab": {},
    "colab_type": "code",
    "id": "4PKZL7O_ojkH"
   },
   "outputs": [],
   "source": [
    "# load digits dataset\n",
    "digits = datasets.load_digits()"
   ]
  },
  {
   "cell_type": "code",
   "execution_count": 10,
   "metadata": {
    "colab": {},
    "colab_type": "code",
    "id": "etzuW3Stot6G"
   },
   "outputs": [],
   "source": [
    "# create features matrix\n",
    "features = digits.data\n",
    "\n",
    "# create target vector (outcomes, what we're trying to predict)\n",
    "target = digits.target"
   ]
  },
  {
   "cell_type": "code",
   "execution_count": 11,
   "metadata": {
    "colab": {
     "base_uri": "https://localhost:8080/",
     "height": 34
    },
    "colab_type": "code",
    "executionInfo": {
     "elapsed": 301,
     "status": "ok",
     "timestamp": 1566952342527,
     "user": {
      "displayName": "Nick Feamster",
      "photoUrl": "https://lh3.googleusercontent.com/a-/AAuE7mDFvpet_sPPt5yq3MRRzIX3Q-CgsLV2DMhtu_Ivbl0=s64",
      "userId": "11425047561900094109"
     },
     "user_tz": 300
    },
    "id": "HxIyEXdsoxgY",
    "outputId": "58c28581-e6e1-4c4b-a334-df9a634b59f8"
   },
   "outputs": [
    {
     "data": {
      "text/plain": [
       "(1797, 64)"
      ]
     },
     "execution_count": 11,
     "metadata": {},
     "output_type": "execute_result"
    }
   ],
   "source": [
    "features.shape"
   ]
  },
  {
   "cell_type": "code",
   "execution_count": 12,
   "metadata": {
    "colab": {
     "base_uri": "https://localhost:8080/",
     "height": 102
    },
    "colab_type": "code",
    "executionInfo": {
     "elapsed": 325,
     "status": "ok",
     "timestamp": 1566952364938,
     "user": {
      "displayName": "Nick Feamster",
      "photoUrl": "https://lh3.googleusercontent.com/a-/AAuE7mDFvpet_sPPt5yq3MRRzIX3Q-CgsLV2DMhtu_Ivbl0=s64",
      "userId": "11425047561900094109"
     },
     "user_tz": 300
    },
    "id": "FkFwI3r9o0KY",
    "outputId": "d8f8cdec-6a6e-4582-b9c8-229e3ff7443d"
   },
   "outputs": [
    {
     "data": {
      "text/plain": [
       "array([ 0.,  0.,  5., 13.,  9.,  1.,  0.,  0.,  0.,  0., 13., 15., 10.,\n",
       "       15.,  5.,  0.,  0.,  3., 15.,  2.,  0., 11.,  8.,  0.,  0.,  4.,\n",
       "       12.,  0.,  0.,  8.,  8.,  0.,  0.,  5.,  8.,  0.,  0.,  9.,  8.,\n",
       "        0.,  0.,  4., 11.,  0.,  1., 12.,  7.,  0.,  0.,  2., 14.,  5.,\n",
       "       10., 12.,  0.,  0.,  0.,  0.,  6., 13., 10.,  0.,  0.,  0.])"
      ]
     },
     "execution_count": 12,
     "metadata": {},
     "output_type": "execute_result"
    }
   ],
   "source": [
    "features[0]"
   ]
  },
  {
   "cell_type": "code",
   "execution_count": 13,
   "metadata": {
    "colab": {
     "base_uri": "https://localhost:8080/",
     "height": 269
    },
    "colab_type": "code",
    "executionInfo": {
     "elapsed": 676,
     "status": "ok",
     "timestamp": 1566952714828,
     "user": {
      "displayName": "Nick Feamster",
      "photoUrl": "https://lh3.googleusercontent.com/a-/AAuE7mDFvpet_sPPt5yq3MRRzIX3Q-CgsLV2DMhtu_Ivbl0=s64",
      "userId": "11425047561900094109"
     },
     "user_tz": 300
    },
    "id": "aUab4DJRp6f2",
    "outputId": "e5cb3184-df9c-49a4-d393-f5b40397efa9"
   },
   "outputs": [
    {
     "data": {
      "image/png": "[encoded data removed]",
      "text/plain": [
       "<Figure size 432x288 with 1 Axes>"
      ]
     },
     "metadata": {
      "needs_background": "light"
     },
     "output_type": "display_data"
    }
   ],
   "source": [
    "# load library\n",
    "import matplotlib.pyplot as plt\n",
    "\n",
    "# view scatterplot\n",
    "plt.scatter(features[:, 0], features[:, 2], c=target)\n",
    "plt.show()"
   ]
  },
  {
   "cell_type": "markdown",
   "metadata": {
    "colab_type": "text",
    "id": "54L5Ic8pqXG1"
   },
   "source": [
    "**Simulated Datasets**"
   ]
  },
  {
   "cell_type": "markdown",
   "metadata": {
    "colab_type": "text",
    "id": "OyPQkrbBrfI7"
   },
   "source": [
    "*Regression*"
   ]
  },
  {
   "cell_type": "code",
   "execution_count": 14,
   "metadata": {
    "colab": {},
    "colab_type": "code",
    "id": "mpPT0sfCqa2N"
   },
   "outputs": [],
   "source": [
    "from sklearn.datasets import make_regression\n",
    "\n",
    "# generate features matrix, target vector, and the true coefficients\n",
    "features, target, coefficients = make_regression(n_samples = 100,\n",
    "                                                 n_features = 3,\n",
    "                                                 n_informative = 3,\n",
    "                                                 n_targets = 1,\n",
    "                                                 noise = 0.0,\n",
    "                                                 coef = True,\n",
    "                                                 random_state = 1)"
   ]
  },
  {
   "cell_type": "code",
   "execution_count": 15,
   "metadata": {
    "colab": {
     "base_uri": "https://localhost:8080/",
     "height": 34
    },
    "colab_type": "code",
    "executionInfo": {
     "elapsed": 310,
     "status": "ok",
     "timestamp": 1566954243323,
     "user": {
      "displayName": "Nick Feamster",
      "photoUrl": "https://lh3.googleusercontent.com/a-/AAuE7mDFvpet_sPPt5yq3MRRzIX3Q-CgsLV2DMhtu_Ivbl0=s64",
      "userId": "11425047561900094109"
     },
     "user_tz": 300
    },
    "id": "EwLinCPoqi4u",
    "outputId": "1dbe91be-468c-4b32-ef4c-9b8343ad2ec9"
   },
   "outputs": [
    {
     "data": {
      "text/plain": [
       "(100, 3)"
      ]
     },
     "execution_count": 15,
     "metadata": {},
     "output_type": "execute_result"
    }
   ],
   "source": [
    "# x (features)\n",
    "features.shape"
   ]
  },
  {
   "cell_type": "code",
   "execution_count": 16,
   "metadata": {
    "colab": {
     "base_uri": "https://localhost:8080/",
     "height": 34
    },
    "colab_type": "code",
    "executionInfo": {
     "elapsed": 302,
     "status": "ok",
     "timestamp": 1566954250949,
     "user": {
      "displayName": "Nick Feamster",
      "photoUrl": "https://lh3.googleusercontent.com/a-/AAuE7mDFvpet_sPPt5yq3MRRzIX3Q-CgsLV2DMhtu_Ivbl0=s64",
      "userId": "11425047561900094109"
     },
     "user_tz": 300
    },
    "id": "OkJh7K0AqpCo",
    "outputId": "0f07bc9a-a404-4ac1-c34a-2fe6eb3fff8f"
   },
   "outputs": [
    {
     "data": {
      "text/plain": [
       "(100,)"
      ]
     },
     "execution_count": 16,
     "metadata": {},
     "output_type": "execute_result"
    }
   ],
   "source": [
    "# y (outcomes)\n",
    "target.shape"
   ]
  },
  {
   "cell_type": "code",
   "execution_count": 17,
   "metadata": {
    "colab": {
     "base_uri": "https://localhost:8080/",
     "height": 34
    },
    "colab_type": "code",
    "executionInfo": {
     "elapsed": 318,
     "status": "ok",
     "timestamp": 1566952859218,
     "user": {
      "displayName": "Nick Feamster",
      "photoUrl": "https://lh3.googleusercontent.com/a-/AAuE7mDFvpet_sPPt5yq3MRRzIX3Q-CgsLV2DMhtu_Ivbl0=s64",
      "userId": "11425047561900094109"
     },
     "user_tz": 300
    },
    "id": "_zCLD45-qtHg",
    "outputId": "7bb269a9-262c-4363-941a-0c912f5649e6"
   },
   "outputs": [
    {
     "data": {
      "text/plain": [
       "array([ 1.29322588, -0.61736206, -0.11044703])"
      ]
     },
     "execution_count": 17,
     "metadata": {},
     "output_type": "execute_result"
    }
   ],
   "source": [
    "features[0]"
   ]
  },
  {
   "cell_type": "code",
   "execution_count": 18,
   "metadata": {
    "colab": {
     "base_uri": "https://localhost:8080/",
     "height": 34
    },
    "colab_type": "code",
    "executionInfo": {
     "elapsed": 185,
     "status": "ok",
     "timestamp": 1566952864771,
     "user": {
      "displayName": "Nick Feamster",
      "photoUrl": "https://lh3.googleusercontent.com/a-/AAuE7mDFvpet_sPPt5yq3MRRzIX3Q-CgsLV2DMhtu_Ivbl0=s64",
      "userId": "11425047561900094109"
     },
     "user_tz": 300
    },
    "id": "ublU2YftqyTM",
    "outputId": "0bf40d85-69db-4a14-ec1a-a467e4f58ff8"
   },
   "outputs": [
    {
     "data": {
      "text/plain": [
       "-10.378659861310346"
      ]
     },
     "execution_count": 18,
     "metadata": {},
     "output_type": "execute_result"
    }
   ],
   "source": [
    "target[0]"
   ]
  },
  {
   "cell_type": "code",
   "execution_count": 19,
   "metadata": {
    "colab": {
     "base_uri": "https://localhost:8080/",
     "height": 119
    },
    "colab_type": "code",
    "executionInfo": {
     "elapsed": 292,
     "status": "ok",
     "timestamp": 1566952890457,
     "user": {
      "displayName": "Nick Feamster",
      "photoUrl": "https://lh3.googleusercontent.com/a-/AAuE7mDFvpet_sPPt5yq3MRRzIX3Q-CgsLV2DMhtu_Ivbl0=s64",
      "userId": "11425047561900094109"
     },
     "user_tz": 300
    },
    "id": "GXyeQze0qzrz",
    "outputId": "1daf9e3f-b39f-43a8-ffd9-0226d256ca3f"
   },
   "outputs": [
    {
     "name": "stdout",
     "output_type": "stream",
     "text": [
      "Feature Matrix \n",
      " [[ 1.29322588 -0.61736206 -0.11044703]\n",
      " [-2.793085    0.36633201  1.93752881]\n",
      " [ 0.80186103 -0.18656977  0.0465673 ]]\n",
      "Target Vector \n",
      " [-10.37865986  25.5124503   19.67705609]\n"
     ]
    }
   ],
   "source": [
    "# view feature matrix and target vector\n",
    "print(\"Feature Matrix \\n {}\".format(features[:3]))\n",
    "print(\"Target Vector \\n {}\".format(target[:3]))"
   ]
  },
  {
   "cell_type": "markdown",
   "metadata": {},
   "source": [
    "_Linear Regression Example_\n",
    "\n",
    "**Todo:** Write a sample linear regression with the sample data above."
   ]
  },
  {
   "cell_type": "markdown",
   "metadata": {
    "colab_type": "text",
    "id": "4MkiGh8PrjQD"
   },
   "source": [
    "*Classification*"
   ]
  },
  {
   "cell_type": "code",
   "execution_count": 17,
   "metadata": {
    "colab": {
     "base_uri": "https://localhost:8080/",
     "height": 119
    },
    "colab_type": "code",
    "executionInfo": {
     "elapsed": 321,
     "status": "ok",
     "timestamp": 1566952954307,
     "user": {
      "displayName": "Nick Feamster",
      "photoUrl": "https://lh3.googleusercontent.com/a-/AAuE7mDFvpet_sPPt5yq3MRRzIX3Q-CgsLV2DMhtu_Ivbl0=s64",
      "userId": "11425047561900094109"
     },
     "user_tz": 300
    },
    "id": "GVMEhNtrq57t",
    "outputId": "06a59e81-4722-4d7e-e2af-d7e01527957b"
   },
   "outputs": [
    {
     "name": "stdout",
     "output_type": "stream",
     "text": [
      "Feature matrix\n",
      " [[ 1.06354768 -1.42632219  1.02163151]\n",
      " [ 0.23156977  1.49535261  0.33251578]\n",
      " [ 0.15972951  0.83533515 -0.40869554]]\n",
      "Target vector\n",
      " [1 0 0]\n"
     ]
    }
   ],
   "source": [
    "# load library\n",
    "from sklearn.datasets import make_classification\n",
    "\n",
    "# generate features matrix and target vector\n",
    "\n",
    "features, target = make_classification(n_samples = 100,\n",
    "                                       n_features = 3,\n",
    "                                       n_informative = 3,\n",
    "                                       n_redundant = 0,\n",
    "                                       n_classes = 2,\n",
    "                                       weights = [.25, .75],\n",
    "                                       random_state = 1)\n",
    "\n",
    "# view feature matrix and target vector\n",
    "print(\"Feature matrix\\n {}\".format(features[:3]))\n",
    "print(\"Target vector\\n {}\".format(target[:3]))"
   ]
  },
  {
   "cell_type": "markdown",
   "metadata": {},
   "source": [
    "_Classification Example_\n",
    "\n",
    "**Todo:** Write a sample logistic regression classification with the sample data above."
   ]
  },
  {
   "cell_type": "markdown",
   "metadata": {
    "colab_type": "text",
    "id": "HM1GEJ6TrmAL"
   },
   "source": [
    "*Clustering*"
   ]
  },
  {
   "cell_type": "code",
   "execution_count": 23,
   "metadata": {
    "colab": {
     "base_uri": "https://localhost:8080/",
     "height": 119
    },
    "colab_type": "code",
    "executionInfo": {
     "elapsed": 257,
     "status": "ok",
     "timestamp": 1566953113543,
     "user": {
      "displayName": "Nick Feamster",
      "photoUrl": "https://lh3.googleusercontent.com/a-/AAuE7mDFvpet_sPPt5yq3MRRzIX3Q-CgsLV2DMhtu_Ivbl0=s64",
      "userId": "11425047561900094109"
     },
     "user_tz": 300
    },
    "id": "GBes1R3JrJgl",
    "outputId": "e1c190bc-fb59-4f4f-f9e7-13b1de15dc5e"
   },
   "outputs": [
    {
     "name": "stdout",
     "output_type": "stream",
     "text": [
      "Feature Matrix\n",
      " [[ -1.443208     3.83110519]\n",
      " [ -9.78617234  -4.16822753]\n",
      " [-10.35874096  -4.07946501]]\n",
      "Target Vector\n",
      " [0 1 1]\n"
     ]
    }
   ],
   "source": [
    "# load library\n",
    "from sklearn.datasets import make_blobs\n",
    "\n",
    "# generate feature_matrix and target vector\n",
    "features, target = make_blobs(n_samples = 100,\n",
    "                              n_features = 2,\n",
    "                              centers = 3,\n",
    "                              cluster_std = .25,\n",
    "                              shuffle = True,\n",
    "                              random_state = 1)\n",
    "\n",
    "# view feature matrix and target vector\n",
    "print(\"Feature Matrix\\n {}\".format(features[:3]))\n",
    "print(\"Target Vector\\n {}\".format(target[:3]))"
   ]
  },
  {
   "cell_type": "code",
   "execution_count": 24,
   "metadata": {
    "colab": {
     "base_uri": "https://localhost:8080/",
     "height": 269
    },
    "colab_type": "code",
    "executionInfo": {
     "elapsed": 596,
     "status": "ok",
     "timestamp": 1566953114293,
     "user": {
      "displayName": "Nick Feamster",
      "photoUrl": "https://lh3.googleusercontent.com/a-/AAuE7mDFvpet_sPPt5yq3MRRzIX3Q-CgsLV2DMhtu_Ivbl0=s64",
      "userId": "11425047561900094109"
     },
     "user_tz": 300
    },
    "id": "xjjbyQMmrTET",
    "outputId": "dd906be5-be41-4a72-a341-89f8efbf61c7"
   },
   "outputs": [
    {
     "data": {
      "image/png": "[encoded data removed]",
      "text/plain": [
       "<Figure size 432x288 with 1 Axes>"
      ]
     },
     "metadata": {
      "tags": []
     },
     "output_type": "display_data"
    }
   ],
   "source": [
    "plt.scatter(features[:, 0], features[:, 1], c=target)\n",
    "plt.show()"
   ]
  },
  {
   "cell_type": "markdown",
   "metadata": {},
   "source": [
    "_Classification Example_\n",
    "\n",
    "**Todo:** Write a sample nearest neighbor classification with the sample data above."
   ]
  },
  {
   "cell_type": "markdown",
   "metadata": {
    "colab_type": "text",
    "id": "VGTb9iESwLqA"
   },
   "source": [
    "**Loading CSV/Excel**"
   ]
  },
  {
   "cell_type": "code",
   "execution_count": 20,
   "metadata": {
    "colab": {
     "base_uri": "https://localhost:8080/",
     "height": 111
    },
    "colab_type": "code",
    "executionInfo": {
     "elapsed": 2411,
     "status": "ok",
     "timestamp": 1566954385033,
     "user": {
      "displayName": "Nick Feamster",
      "photoUrl": "https://lh3.googleusercontent.com/a-/AAuE7mDFvpet_sPPt5yq3MRRzIX3Q-CgsLV2DMhtu_Ivbl0=s64",
      "userId": "11425047561900094109"
     },
     "user_tz": 300
    },
    "id": "ta17X6OlwQyK",
    "outputId": "a3f98ca7-16ab-44e6-96e4-dd024718043b"
   },
   "outputs": [
    {
     "data": {
      "text/html": [
       "<div>\n",
       "<style scoped>\n",
       "    .dataframe tbody tr th:only-of-type {\n",
       "        vertical-align: middle;\n",
       "    }\n",
       "\n",
       "    .dataframe tbody tr th {\n",
       "        vertical-align: top;\n",
       "    }\n",
       "\n",
       "    .dataframe thead th {\n",
       "        text-align: right;\n",
       "    }\n",
       "</style>\n",
       "<table border=\"1\" class=\"dataframe\">\n",
       "  <thead>\n",
       "    <tr style=\"text-align: right;\">\n",
       "      <th></th>\n",
       "      <th>cdatetime</th>\n",
       "      <th>address</th>\n",
       "      <th>district</th>\n",
       "      <th>beat</th>\n",
       "      <th>grid</th>\n",
       "      <th>crimedescr</th>\n",
       "      <th>ucr_ncic_code</th>\n",
       "      <th>latitude</th>\n",
       "      <th>longitude</th>\n",
       "    </tr>\n",
       "  </thead>\n",
       "  <tbody>\n",
       "    <tr>\n",
       "      <th>0</th>\n",
       "      <td>1/1/06 0:00</td>\n",
       "      <td>3108 OCCIDENTAL DR</td>\n",
       "      <td>3</td>\n",
       "      <td>3C</td>\n",
       "      <td>1115</td>\n",
       "      <td>10851(A)VC TAKE VEH W/O OWNER</td>\n",
       "      <td>2404</td>\n",
       "      <td>38.550420</td>\n",
       "      <td>-121.391416</td>\n",
       "    </tr>\n",
       "    <tr>\n",
       "      <th>1</th>\n",
       "      <td>1/1/06 0:00</td>\n",
       "      <td>2082 EXPEDITION WAY</td>\n",
       "      <td>5</td>\n",
       "      <td>5A</td>\n",
       "      <td>1512</td>\n",
       "      <td>459 PC  BURGLARY RESIDENCE</td>\n",
       "      <td>2204</td>\n",
       "      <td>38.473501</td>\n",
       "      <td>-121.490186</td>\n",
       "    </tr>\n",
       "  </tbody>\n",
       "</table>\n",
       "</div>"
      ],
      "text/plain": [
       "     cdatetime              address  district        beat  grid  \\\n",
       "0  1/1/06 0:00   3108 OCCIDENTAL DR         3  3C          1115   \n",
       "1  1/1/06 0:00  2082 EXPEDITION WAY         5  5A          1512   \n",
       "\n",
       "                      crimedescr  ucr_ncic_code   latitude   longitude  \n",
       "0  10851(A)VC TAKE VEH W/O OWNER           2404  38.550420 -121.391416  \n",
       "1     459 PC  BURGLARY RESIDENCE           2204  38.473501 -121.490186  "
      ]
     },
     "execution_count": 20,
     "metadata": {},
     "output_type": "execute_result"
    }
   ],
   "source": [
    "# load library\n",
    "import pandas as pd\n",
    "\n",
    "# create url (excel spreadsheet, comma-separated value)\n",
    "url = \"http://samplecsvs.s3.amazonaws.com/SacramentocrimeJanuary2006.csv\"\n",
    "\n",
    "# load data\n",
    "df = pd.read_csv(url)\n",
    "\n",
    "# print first two rows of the comma-separated dataset\n",
    "df.head(2)\n"
   ]
  },
  {
   "cell_type": "code",
   "execution_count": 21,
   "metadata": {
    "colab": {
     "base_uri": "https://localhost:8080/",
     "height": 111
    },
    "colab_type": "code",
    "executionInfo": {
     "elapsed": 2002,
     "status": "ok",
     "timestamp": 1566954404960,
     "user": {
      "displayName": "Nick Feamster",
      "photoUrl": "https://lh3.googleusercontent.com/a-/AAuE7mDFvpet_sPPt5yq3MRRzIX3Q-CgsLV2DMhtu_Ivbl0=s64",
      "userId": "11425047561900094109"
     },
     "user_tz": 300
    },
    "id": "JLIkPCTrwaIL",
    "outputId": "3ab6d2d6-e3b1-4336-ae95-74cf3e4c020b"
   },
   "outputs": [
    {
     "data": {
      "text/html": [
       "<div>\n",
       "<style scoped>\n",
       "    .dataframe tbody tr th:only-of-type {\n",
       "        vertical-align: middle;\n",
       "    }\n",
       "\n",
       "    .dataframe tbody tr th {\n",
       "        vertical-align: top;\n",
       "    }\n",
       "\n",
       "    .dataframe thead th {\n",
       "        text-align: right;\n",
       "    }\n",
       "</style>\n",
       "<table border=\"1\" class=\"dataframe\">\n",
       "  <thead>\n",
       "    <tr style=\"text-align: right;\">\n",
       "      <th></th>\n",
       "      <th>0</th>\n",
       "      <th>1</th>\n",
       "      <th>2</th>\n",
       "      <th>3</th>\n",
       "      <th>4</th>\n",
       "      <th>5</th>\n",
       "      <th>6</th>\n",
       "      <th>7</th>\n",
       "      <th>8</th>\n",
       "      <th>9</th>\n",
       "    </tr>\n",
       "  </thead>\n",
       "  <tbody>\n",
       "    <tr>\n",
       "      <th>0</th>\n",
       "      <td>1</td>\n",
       "      <td>Eldon Base for stackable storage shelf, platinum</td>\n",
       "      <td>Muhammed MacIntyre</td>\n",
       "      <td>3</td>\n",
       "      <td>-213.25</td>\n",
       "      <td>38.94</td>\n",
       "      <td>35.00</td>\n",
       "      <td>Nunavut</td>\n",
       "      <td>Storage &amp; Organization</td>\n",
       "      <td>0.80</td>\n",
       "    </tr>\n",
       "    <tr>\n",
       "      <th>1</th>\n",
       "      <td>2</td>\n",
       "      <td>1.7 Cubic Foot Compact \"Cube\" Office Refrigera...</td>\n",
       "      <td>Barry French</td>\n",
       "      <td>293</td>\n",
       "      <td>457.81</td>\n",
       "      <td>208.16</td>\n",
       "      <td>68.02</td>\n",
       "      <td>Nunavut</td>\n",
       "      <td>Appliances</td>\n",
       "      <td>0.58</td>\n",
       "    </tr>\n",
       "  </tbody>\n",
       "</table>\n",
       "</div>"
      ],
      "text/plain": [
       "   0                                                  1                   2  \\\n",
       "0  1   Eldon Base for stackable storage shelf, platinum  Muhammed MacIntyre   \n",
       "1  2  1.7 Cubic Foot Compact \"Cube\" Office Refrigera...        Barry French   \n",
       "\n",
       "     3       4       5      6        7                       8     9  \n",
       "0    3 -213.25   38.94  35.00  Nunavut  Storage & Organization  0.80  \n",
       "1  293  457.81  208.16  68.02  Nunavut              Appliances  0.58  "
      ]
     },
     "execution_count": 21,
     "metadata": {},
     "output_type": "execute_result"
    }
   ],
   "source": [
    "url = \"https://www.sample-videos.com/xls/Sample-Spreadsheet-10-rows.xls\"\n",
    "\n",
    "# load data\n",
    "df = pd.read_excel(url, sheet_name=0, header=None)\n",
    "\n",
    "# view the first two rows\n",
    "df.head(2)"
   ]
  },
  {
   "cell_type": "markdown",
   "metadata": {
    "colab_type": "text",
    "id": "dd3jPRRwxNwB"
   },
   "source": [
    "**Simple Linear Regression**"
   ]
  },
  {
   "cell_type": "code",
   "execution_count": 22,
   "metadata": {
    "colab": {},
    "colab_type": "code",
    "id": "u7-6Ft1axSQ1"
   },
   "outputs": [],
   "source": [
    "# load one of the sample \"toy\" datasets\n",
    "from sklearn.datasets import load_boston\n",
    "boston = load_boston()"
   ]
  },
  {
   "cell_type": "code",
   "execution_count": 23,
   "metadata": {
    "colab": {},
    "colab_type": "code",
    "id": "v2jOz9RbxZFq"
   },
   "outputs": [],
   "source": [
    "# simple linear regression library\n",
    "from sklearn.linear_model import LinearRegression"
   ]
  },
  {
   "cell_type": "code",
   "execution_count": 24,
   "metadata": {
    "colab": {},
    "colab_type": "code",
    "id": "Lsh5Pp5xxm3N"
   },
   "outputs": [],
   "source": [
    "features = boston.data[:, 0:2]\n",
    "target = boston.target"
   ]
  },
  {
   "cell_type": "code",
   "execution_count": 25,
   "metadata": {
    "colab": {
     "base_uri": "https://localhost:8080/",
     "height": 187
    },
    "colab_type": "code",
    "executionInfo": {
     "elapsed": 327,
     "status": "ok",
     "timestamp": 1566954692329,
     "user": {
      "displayName": "Nick Feamster",
      "photoUrl": "https://lh3.googleusercontent.com/a-/AAuE7mDFvpet_sPPt5yq3MRRzIX3Q-CgsLV2DMhtu_Ivbl0=s64",
      "userId": "11425047561900094109"
     },
     "user_tz": 300
    },
    "id": "MiuEm97Fxpc9",
    "outputId": "8206301c-6d75-47db-fabb-c7011b7d707d"
   },
   "outputs": [
    {
     "data": {
      "text/plain": [
       "array([[6.3200e-03, 1.8000e+01],\n",
       "       [2.7310e-02, 0.0000e+00],\n",
       "       [2.7290e-02, 0.0000e+00],\n",
       "       [3.2370e-02, 0.0000e+00],\n",
       "       [6.9050e-02, 0.0000e+00],\n",
       "       [2.9850e-02, 0.0000e+00],\n",
       "       [8.8290e-02, 1.2500e+01],\n",
       "       [1.4455e-01, 1.2500e+01],\n",
       "       [2.1124e-01, 1.2500e+01],\n",
       "       [1.7004e-01, 1.2500e+01]])"
      ]
     },
     "execution_count": 25,
     "metadata": {},
     "output_type": "execute_result"
    }
   ],
   "source": [
    "features[:10]"
   ]
  },
  {
   "cell_type": "code",
   "execution_count": 26,
   "metadata": {
    "colab": {
     "base_uri": "https://localhost:8080/",
     "height": 187
    },
    "colab_type": "code",
    "executionInfo": {
     "elapsed": 318,
     "status": "ok",
     "timestamp": 1566954713158,
     "user": {
      "displayName": "Nick Feamster",
      "photoUrl": "https://lh3.googleusercontent.com/a-/AAuE7mDFvpet_sPPt5yq3MRRzIX3Q-CgsLV2DMhtu_Ivbl0=s64",
      "userId": "11425047561900094109"
     },
     "user_tz": 300
    },
    "id": "IKdUozbqxwVJ",
    "outputId": "962b1c23-4557-4942-ad09-50658f6e5f5a"
   },
   "outputs": [
    {
     "data": {
      "text/plain": [
       "array([[24. ],\n",
       "       [21.6],\n",
       "       [34.7],\n",
       "       [33.4],\n",
       "       [36.2],\n",
       "       [28.7],\n",
       "       [22.9],\n",
       "       [27.1],\n",
       "       [16.5],\n",
       "       [18.9]])"
      ]
     },
     "execution_count": 26,
     "metadata": {},
     "output_type": "execute_result"
    }
   ],
   "source": [
    "target[:10].reshape(-1,1)"
   ]
  },
  {
   "cell_type": "code",
   "execution_count": 27,
   "metadata": {
    "colab": {},
    "colab_type": "code",
    "id": "cqVhn4-Vx0gI"
   },
   "outputs": [],
   "source": [
    "# Load Linear Regression Model\n",
    "regression = LinearRegression()\n",
    "\n",
    "# Train the Model\n",
    "model = regression.fit(features, target)"
   ]
  },
  {
   "cell_type": "code",
   "execution_count": 28,
   "metadata": {
    "colab": {
     "base_uri": "https://localhost:8080/",
     "height": 34
    },
    "colab_type": "code",
    "executionInfo": {
     "elapsed": 305,
     "status": "ok",
     "timestamp": 1566955208111,
     "user": {
      "displayName": "Nick Feamster",
      "photoUrl": "https://lh3.googleusercontent.com/a-/AAuE7mDFvpet_sPPt5yq3MRRzIX3Q-CgsLV2DMhtu_Ivbl0=s64",
      "userId": "11425047561900094109"
     },
     "user_tz": 300
    },
    "id": "PBtMchkPyBS8",
    "outputId": "aa5d74a6-018f-4087-82d6-5f02f5cba74c"
   },
   "outputs": [
    {
     "name": "stdout",
     "output_type": "stream",
     "text": [
      "[[0.37864281 0.91007914]]\n"
     ]
    }
   ],
   "source": [
    "# Generate a set of features that the model has never seen before\n",
    "import numpy as np\n",
    "sample = np.random.random(2)\n",
    "print(sample.reshape(1,-1))"
   ]
  },
  {
   "cell_type": "code",
   "execution_count": 29,
   "metadata": {
    "colab": {
     "base_uri": "https://localhost:8080/",
     "height": 34
    },
    "colab_type": "code",
    "executionInfo": {
     "elapsed": 322,
     "status": "ok",
     "timestamp": 1566955228640,
     "user": {
      "displayName": "Nick Feamster",
      "photoUrl": "https://lh3.googleusercontent.com/a-/AAuE7mDFvpet_sPPt5yq3MRRzIX3Q-CgsLV2DMhtu_Ivbl0=s64",
      "userId": "11425047561900094109"
     },
     "user_tz": 300
    },
    "id": "Vvf9iFlqylNV",
    "outputId": "cf03727c-19a4-4a02-cc30-411481501493"
   },
   "outputs": [
    {
     "data": {
      "text/plain": [
       "array([22.45798465])"
      ]
     },
     "execution_count": 29,
     "metadata": {},
     "output_type": "execute_result"
    }
   ],
   "source": [
    "# Predict the outcome based on that new set of features\n",
    "\n",
    "y_predict = regression.predict(sample.reshape(1,-1))\n",
    "y_predict"
   ]
  },
  {
   "cell_type": "code",
   "execution_count": 0,
   "metadata": {
    "colab": {},
    "colab_type": "code",
    "id": "0DYxwQkBzDtY"
   },
   "outputs": [],
   "source": []
  }
 ],
 "metadata": {
  "colab": {
   "name": "Datasets - Chapter 2.ipynb",
   "provenance": [],
   "version": "0.3.2"
  },
  "kernelspec": {
   "display_name": "Python 3",
   "language": "python",
   "name": "python3"
  },
  "language_info": {
   "codemirror_mode": {
    "name": "ipython",
    "version": 3
   },
   "file_extension": ".py",
   "mimetype": "text/x-python",
   "name": "python",
   "nbconvert_exporter": "python",
   "pygments_lexer": "ipython3",
   "version": "3.7.1"
  }
 },
 "nbformat": 4,
 "nbformat_minor": 1
}
